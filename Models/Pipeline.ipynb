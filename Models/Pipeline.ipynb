{
 "cells": [
  {
   "cell_type": "code",
   "execution_count": 5,
   "id": "72a910a2-8783-4576-a64c-a6c1e0100c4d",
   "metadata": {},
   "outputs": [],
   "source": [
    "import pandas as pd\n",
    "import numpy as np\n",
    "import optuna\n",
    "import numpy as np\n",
    "from sklearn.metrics import mean_squared_error, r2_score\n",
    "from sklearn.model_selection import GridSearchCV, cross_val_score, train_test_split\n",
    "from sklearn.impute import SimpleImputer\n",
    "from sklearn.preprocessing import StandardScaler\n",
    "from xgboost import XGBRegressor\n"
   ]
  },
  {
   "cell_type": "code",
   "execution_count": 6,
   "id": "eb456a93-c5a1-46b5-bbe5-fc5496fee19d",
   "metadata": {},
   "outputs": [],
   "source": [
    "df = pd.read_csv('Final_df.csv', index_col=0)"
   ]
  },
  {
   "cell_type": "code",
   "execution_count": 7,
   "id": "8f719f96-c3fe-4fff-8422-eb9b52b72038",
   "metadata": {},
   "outputs": [],
   "source": [
    "df_train = df[df['isTrain'] == True]\n",
    "\n",
    "Y = df_train['target']\n",
    "X = df_train.drop(columns=['target', 'isTrain', 'address', 'address_rus', 'geometry', 'buffer', 'poi_amenities'])\n",
    "\n",
    "categorical_features = ['city', 'atm_group']\n",
    "X = pd.get_dummies(X, columns=categorical_features, drop_first=True)\n",
    "\n",
    "X_train, X_test, y_train, y_test = train_test_split(X, Y, test_size=0.3, random_state=42)\n",
    "\n",
    "imputer = SimpleImputer(strategy='mean')\n",
    "X_train_imputed = imputer.fit_transform(X_train)\n",
    "X_test_imputed = imputer.transform(X_test)\n",
    "\n",
    "scaler = StandardScaler()\n",
    "X_train_scaled = scaler.fit_transform(X_train_imputed)\n",
    "X_test_scaled = scaler.transform(X_test_imputed)"
   ]
  },
  {
   "cell_type": "code",
   "execution_count": 8,
   "id": "573e5e49-c509-4685-9330-17f973039dcd",
   "metadata": {},
   "outputs": [
    {
     "name": "stdout",
     "output_type": "stream",
     "text": [
      "Лучшие параметры: {'colsample_bytree': 0.8, 'learning_rate': 0.01, 'max_depth': 7, 'n_estimators': 500, 'subsample': 0.8}\n",
      "Лучший кросс-валидационный score (отрицательная MSE): -0.0020230114822195368\n",
      "\n",
      "Результаты на тестовой выборке для лучшей модели XGBRegressor:\n",
      "MSE: 0.0020574162928616306\n",
      "RMSE: 0.04535875100641144\n",
      "R^2: 0.7289905774606872\n"
     ]
    }
   ],
   "source": [
    "param_grid = {\n",
    "    'max_depth': [3, 5, 7],\n",
    "    'learning_rate': [0.01, 0.1, 0.2],\n",
    "    'n_estimators': [100, 200, 500],\n",
    "    'subsample': [0.8, 1.0],\n",
    "    'colsample_bytree': [0.8, 1.0]\n",
    "}\n",
    "\n",
    "xgb_model = XGBRegressor(random_state=42, objective='reg:squarederror')\n",
    "\n",
    "grid_search = GridSearchCV(xgb_model, param_grid, cv=5, scoring='neg_mean_squared_error', n_jobs=-1)\n",
    "grid_search.fit(X_train_scaled, y_train)\n",
    "\n",
    "print(\"Лучшие параметры:\", grid_search.best_params_)\n",
    "print(\"Лучший кросс-валидационный score (отрицательная MSE):\", grid_search.best_score_)\n",
    "\n",
    "best_xgb = grid_search.best_estimator_\n",
    "\n",
    "y_pred_xgb = best_xgb.predict(X_test_scaled)\n",
    "\n",
    "mse_xgb = mean_squared_error(y_test, y_pred_xgb)\n",
    "rmse_xgb = np.sqrt(mse_xgb)\n",
    "r2_xgb = r2_score(y_test, y_pred_xgb)\n",
    "\n",
    "print(\"\\nРезультаты на тестовой выборке для лучшей модели XGBRegressor:\")\n",
    "print(\"MSE:\", mse_xgb)\n",
    "print(\"RMSE:\", rmse_xgb)\n",
    "print(\"R^2:\", r2_xgb)"
   ]
  },
  {
   "cell_type": "code",
   "execution_count": 9,
   "id": "7c90616d-406c-4cb5-ae51-c3b24f832edc",
   "metadata": {},
   "outputs": [
    {
     "data": {
      "text/plain": [
       "['best_xgb_model.pkl']"
      ]
     },
     "execution_count": 9,
     "metadata": {},
     "output_type": "execute_result"
    }
   ],
   "source": [
    "import joblib\n",
    "\n",
    "# Сохраняем лучшую модель в файл\n",
    "joblib.dump(best_xgb, 'best_xgb_model.pkl')"
   ]
  },
  {
   "cell_type": "code",
   "execution_count": null,
   "id": "7cbd7d4a-9dbf-45ce-b6a8-bbcf5095c119",
   "metadata": {},
   "outputs": [],
   "source": []
  }
 ],
 "metadata": {
  "kernelspec": {
   "display_name": "Python 3 (ipykernel)",
   "language": "python",
   "name": "python3"
  },
  "language_info": {
   "codemirror_mode": {
    "name": "ipython",
    "version": 3
   },
   "file_extension": ".py",
   "mimetype": "text/x-python",
   "name": "python",
   "nbconvert_exporter": "python",
   "pygments_lexer": "ipython3",
   "version": "3.11.11"
  }
 },
 "nbformat": 4,
 "nbformat_minor": 5
}
